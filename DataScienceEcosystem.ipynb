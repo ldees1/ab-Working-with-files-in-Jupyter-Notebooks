{
  "metadata": {
    "kernelspec": {
      "name": "python",
      "display_name": "Python (Pyodide)",
      "language": "python"
    },
    "language_info": {
      "codemirror_mode": {
        "name": "python",
        "version": 3
      },
      "file_extension": ".py",
      "mimetype": "text/x-python",
      "name": "python",
      "nbconvert_exporter": "python",
      "pygments_lexer": "ipython3",
      "version": "3.8"
    }
  },
  "nbformat_minor": 5,
  "nbformat": 4,
  "cells": [
    {
      "id": "3424a999-1814-407c-8549-5166ae4e5354",
      "cell_type": "code",
      "source": "",
      "metadata": {
        "trusted": true
      },
      "outputs": [],
      "execution_count": null
    },
    {
      "id": "094f846d-0c75-4670-bf9c-78af54159e6d",
      "cell_type": "markdown",
      "source": "# Data Science Tools and Ecosystem",
      "metadata": {}
    },
    {
      "id": "74fe7c13-067d-474d-9ad8-336454e04d15",
      "cell_type": "markdown",
      "source": "Data Science Tools and Ecosystems are summarized ",
      "metadata": {}
    },
    {
      "id": "937263ad-c7b0-41b4-900e-ed6ae7029761",
      "cell_type": "markdown",
      "source": "Some of the popular languages that Data Scientists use are:\n1. Python\n2. R\n3.SQL",
      "metadata": {}
    },
    {
      "id": "95e13bbf-116c-49c2-9080-242901768b50",
      "cell_type": "markdown",
      "source": "Some of the commonly used librariessd by Data Scientists include:\n1. Pandas\n2. Numpy\n3. ggplot",
      "metadata": {}
    },
    {
      "id": "b76e1b56-6784-42cb-8af2-e97d47c5da63",
      "cell_type": "markdown",
      "source": "Data Science Tools\nJupyter Notebook\nRStudio\nVS Code",
      "metadata": {}
    },
    {
      "id": "ad1108ba-04be-4699-9cc8-c15c8a2e9e67",
      "cell_type": "markdown",
      "source": "Below are a few examples of evualating arithmetic expressions in Python ",
      "metadata": {}
    },
    {
      "id": "1ffb1083-a43a-4c79-ac8e-ac2131468aa2",
      "cell_type": "code",
      "source": "(3*4)+5",
      "metadata": {
        "trusted": true
      },
      "outputs": [
        {
          "execution_count": 7,
          "output_type": "execute_result",
          "data": {
            "text/plain": "17"
          },
          "metadata": {}
        }
      ],
      "execution_count": 7
    },
    {
      "id": "e5eb1d4b-4ed1-4891-a68c-1b248687a3b1",
      "cell_type": "markdown",
      "source": "This will comvert 200 minutes to hours by diving by 60",
      "metadata": {}
    },
    {
      "id": "17b0d970-b4b5-4c21-8f68-4da79eb08acc",
      "cell_type": "code",
      "source": "(200/60)",
      "metadata": {
        "trusted": true
      },
      "outputs": [
        {
          "execution_count": 8,
          "output_type": "execute_result",
          "data": {
            "text/plain": "3.3333333333333335"
          },
          "metadata": {}
        }
      ],
      "execution_count": 8
    },
    {
      "id": "e55d460c-d306-4af9-83f7-3258e05a6d97",
      "cell_type": "code",
      "source": "Objectives:\n*Python\n*Jupyter\n*Numpy\n*RStudio\n*",
      "metadata": {
        "trusted": true
      },
      "outputs": [],
      "execution_count": null
    },
    {
      "id": "c0f675b5-3635-4bfe-9346-1555bd6350a9",
      "cell_type": "markdown",
      "source": "Author\nlloyd ",
      "metadata": {}
    }
  ]
}